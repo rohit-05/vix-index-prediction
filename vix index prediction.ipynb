{
 "cells": [
  {
   "cell_type": "code",
   "execution_count": null,
   "metadata": {},
   "outputs": [],
   "source": [
    "\n",
    "import wrds\n",
    "import pandas as pd\n",
    "import numpy as np\n",
    "db = wrds.Connection(wrds_username='aanand99')\n",
    "\n",
    "#Sourcing Data\n",
    "db.raw_sql(\"select vixo, vixh, vixl, vix from cboe where date between '1992-11-01' and '2019-11-30' \")"
   ]
  },
  {
   "cell_type": "code",
   "execution_count": 4,
   "metadata": {},
   "outputs": [],
   "source": [
    "res = db.raw_sql(\"select date, vixo, vixh, vixl, vix from cboe where date between '1992-11-01' and '2019-11-30' \")"
   ]
  },
  {
   "cell_type": "code",
   "execution_count": 5,
   "metadata": {},
   "outputs": [],
   "source": [
    "res.to_csv(\"C:\\Desktop\\Academics\\Third Sem\\FE511\\Vix.csv\")"
   ]
  },
  {
   "cell_type": "code",
   "execution_count": 6,
   "metadata": {},
   "outputs": [],
   "source": [
    "import matplotlib.pyplot as plt"
   ]
  },
  {
   "cell_type": "code",
   "execution_count": 7,
   "metadata": {},
   "outputs": [
    {
     "data": {
      "image/png": "[encoded data removed]",
      "text/plain": [
       "<Figure size 432x288 with 1 Axes>"
      ]
     },
     "metadata": {},
     "output_type": "display_data"
    }
   ],
   "source": [
    "plt.figure()\n",
    "plt.plot(res[\"vixo\"])\n",
    "plt.plot(res[\"vixh\"])\n",
    "plt.plot(res[\"vixl\"])\n",
    "plt.plot(res[\"vix\"])\n",
    "plt.title('VIX Indices History')\n",
    "#plt.ylabel('Price (USD)')\n",
    "plt.xlabel('Days')\n",
    "#plt.xticks(res[\"date\"])\n",
    "plt.legend(['Open','High','Low','Close'], loc='upper left')\n",
    "plt.show()"
   ]
  },
  {
   "cell_type": "code",
   "execution_count": 8,
   "metadata": {},
   "outputs": [
    {
     "data": {
      "text/plain": [
       "date    0\n",
       "vixo    3\n",
       "vixh    3\n",
       "vixl    3\n",
       "vix     3\n",
       "dtype: int64"
      ]
     },
     "execution_count": 8,
     "metadata": {},
     "output_type": "execute_result"
    }
   ],
   "source": [
    "#Null values count\n",
    "res.isna().sum()"
   ]
  },
  {
   "cell_type": "code",
   "execution_count": 9,
   "metadata": {},
   "outputs": [
    {
     "data": {
      "text/plain": [
       "6821"
      ]
     },
     "execution_count": 9,
     "metadata": {},
     "output_type": "execute_result"
    }
   ],
   "source": [
    "len(res)"
   ]
  },
  {
   "cell_type": "code",
   "execution_count": 10,
   "metadata": {},
   "outputs": [],
   "source": [
    "#Dropping null values\n",
    "res = res.dropna(how='any',axis=0)"
   ]
  },
  {
   "cell_type": "code",
   "execution_count": 11,
   "metadata": {},
   "outputs": [
    {
     "data": {
      "text/plain": [
       "6818"
      ]
     },
     "execution_count": 11,
     "metadata": {},
     "output_type": "execute_result"
    }
   ],
   "source": [
    "len(res)"
   ]
  },
  {
   "cell_type": "code",
   "execution_count": 12,
   "metadata": {},
   "outputs": [
    {
     "data": {
      "text/plain": [
       "date    0\n",
       "vixo    0\n",
       "vixh    0\n",
       "vixl    0\n",
       "vix     0\n",
       "dtype: int64"
      ]
     },
     "execution_count": 12,
     "metadata": {},
     "output_type": "execute_result"
    }
   ],
   "source": [
    "res.isna().sum()"
   ]
  },
  {
   "cell_type": "code",
   "execution_count": 13,
   "metadata": {},
   "outputs": [
    {
     "name": "stdout",
     "output_type": "stream",
     "text": [
      "Train and Test size 5454 1364\n"
     ]
    }
   ],
   "source": [
    "#Scaling and splitting data\n",
    "from sklearn.preprocessing import MinMaxScaler\n",
    "from sklearn.model_selection import train_test_split\n",
    "\n",
    "train_cols = [\"vixo\",\"vixh\",\"vixl\",\"vix\"]\n",
    "res_train, res_test = train_test_split(res, train_size=0.8, test_size=0.2, shuffle=False)\n",
    "print(\"Train and Test size\", len(res_train), len(res_test))\n",
    "# scale the feature MinMax, build array\n",
    "x = res_train.loc[:,train_cols].values\n",
    "min_max_scaler = MinMaxScaler()\n",
    "x_train = min_max_scaler.fit_transform(x)\n",
    "x_test = min_max_scaler.transform(res_test.loc[:,train_cols])"
   ]
  },
  {
   "cell_type": "code",
   "execution_count": 14,
   "metadata": {},
   "outputs": [],
   "source": [
    "#Build time series format\n",
    "TIME_STEPS=10\n",
    "BATCH_SIZE = 32\n",
    "from tqdm import tqdm\n",
    "def build_timeseries(mat, y_col_index):\n",
    "    dim_0 = mat.shape[0] - TIME_STEPS\n",
    "    dim_1 = mat.shape[1]\n",
    "    x = np.zeros((dim_0, TIME_STEPS, dim_1))\n",
    "    y = np.zeros((dim_0,))\n",
    "    \n",
    "    for i in tqdm(range(dim_0)):\n",
    "        x[i] = mat[i:TIME_STEPS+i]\n",
    "        y[i] = mat[TIME_STEPS+i, y_col_index]\n",
    "    print(\"length of time-series i/o\",x.shape,y.shape)\n",
    "    return x, y"
   ]
  },
  {
   "cell_type": "code",
   "execution_count": 15,
   "metadata": {},
   "outputs": [],
   "source": [
    "\n",
    "def trim_dataset(mat, batch_size):\n",
    "    no_of_rows_drop = mat.shape[0]%batch_size\n",
    "    if(no_of_rows_drop > 0):\n",
    "        return mat[:-no_of_rows_drop]\n",
    "    else:\n",
    "        return mat"
   ]
  },
  {
   "cell_type": "code",
   "execution_count": 16,
   "metadata": {},
   "outputs": [
    {
     "name": "stderr",
     "output_type": "stream",
     "text": [
      "100%|██████████████████████████████████████████████████████████████████████████| 5444/5444 [00:00<00:00, 248120.56it/s]\n",
      "100%|██████████████████████████████████████████████████████████████████████████| 1354/1354 [00:00<00:00, 170553.42it/s]"
     ]
    },
    {
     "name": "stdout",
     "output_type": "stream",
     "text": [
      "length of time-series i/o (5444, 10, 4) (5444,)\n",
      "length of time-series i/o (1354, 10, 4) (1354,)\n"
     ]
    },
    {
     "name": "stderr",
     "output_type": "stream",
     "text": [
      "\n"
     ]
    }
   ],
   "source": [
    "#Converting data into training, testing, and validation sets\n",
    "x_t, y_t = build_timeseries(x_train, 3)\n",
    "x_t = trim_dataset(x_t, BATCH_SIZE)\n",
    "y_t = trim_dataset(y_t, BATCH_SIZE)\n",
    "x_temp, y_temp = build_timeseries(x_test, 3)\n",
    "x_val, x_test_t = np.split(trim_dataset(x_temp, BATCH_SIZE),2)\n",
    "y_val, y_test_t = np.split(trim_dataset(y_temp, BATCH_SIZE),2)"
   ]
  },
  {
   "cell_type": "code",
   "execution_count": 17,
   "metadata": {},
   "outputs": [
    {
     "name": "stderr",
     "output_type": "stream",
     "text": [
      "C:\\Users\\abhis\\AppData\\Local\\Continuum\\anaconda3\\lib\\site-packages\\h5py\\__init__.py:36: FutureWarning: Conversion of the second argument of issubdtype from `float` to `np.floating` is deprecated. In future, it will be treated as `np.float64 == np.dtype(float).type`.\n",
      "  from ._conv import register_converters as _register_converters\n"
     ]
    }
   ],
   "source": [
    "#Modeling with keras LSTM\n",
    "import tensorflow.keras\n",
    "#import tensorflow\n",
    "from tensorflow.keras.models import Sequential\n",
    "from tensorflow.keras.layers import LSTM, Dropout, Dense\n",
    "import tensorflow.keras.optimizers\n",
    "#from tensorflow.keras import backend\n",
    "lstm_model = Sequential()\n",
    "lstm_model.add(LSTM(100, batch_input_shape=(BATCH_SIZE, TIME_STEPS, x_t.shape[2]), dropout=0.0, recurrent_dropout=0.0, stateful=True, kernel_initializer='random_uniform'))\n",
    "lstm_model.add(Dropout(0.5))\n",
    "lstm_model.add(Dense(20,activation='relu'))\n",
    "lstm_model.add(Dense(1,activation='sigmoid'))\n",
    "optimizer = tensorflow.keras.optimizers.RMSprop(lr=0.001)\n",
    "lstm_model.compile(loss='mean_squared_error', optimizer=optimizer)"
   ]
  },
  {
   "cell_type": "code",
   "execution_count": 18,
   "metadata": {},
   "outputs": [
    {
     "name": "stdout",
     "output_type": "stream",
     "text": [
      "Train on 5440 samples, validate on 672 samples\n",
      "Epoch 1/100\n",
      " - 3s - loss: 0.0156 - val_loss: 0.0045\n",
      "Epoch 2/100\n",
      " - 2s - loss: 0.0064 - val_loss: 0.0040\n",
      "Epoch 3/100\n",
      " - 2s - loss: 0.0050 - val_loss: 0.0040\n",
      "Epoch 4/100\n",
      " - 2s - loss: 0.0043 - val_loss: 0.0039\n",
      "Epoch 5/100\n",
      " - 2s - loss: 0.0028 - val_loss: 0.0031\n",
      "Epoch 6/100\n",
      " - 2s - loss: 0.0023 - val_loss: 0.0027\n",
      "Epoch 7/100\n",
      " - 2s - loss: 0.0019 - val_loss: 0.0025\n",
      "Epoch 8/100\n",
      " - 2s - loss: 0.0018 - val_loss: 0.0023\n",
      "Epoch 9/100\n",
      " - 2s - loss: 0.0016 - val_loss: 0.0020\n",
      "Epoch 10/100\n",
      " - 2s - loss: 0.0014 - val_loss: 0.0022\n",
      "Epoch 11/100\n",
      " - 2s - loss: 0.0013 - val_loss: 0.0020\n",
      "Epoch 12/100\n",
      " - 2s - loss: 0.0012 - val_loss: 0.0019\n",
      "Epoch 13/100\n",
      " - 2s - loss: 0.0012 - val_loss: 0.0017\n",
      "Epoch 14/100\n",
      " - 2s - loss: 0.0012 - val_loss: 0.0013\n",
      "Epoch 15/100\n",
      " - 2s - loss: 0.0011 - val_loss: 0.0014\n",
      "Epoch 16/100\n",
      " - 2s - loss: 0.0011 - val_loss: 0.0013\n",
      "Epoch 17/100\n",
      " - 2s - loss: 0.0011 - val_loss: 0.0012\n",
      "Epoch 18/100\n",
      " - 2s - loss: 0.0010 - val_loss: 0.0011\n",
      "Epoch 19/100\n",
      " - 2s - loss: 9.4977e-04 - val_loss: 0.0011\n",
      "Epoch 20/100\n",
      " - 2s - loss: 9.8242e-04 - val_loss: 0.0010\n",
      "Epoch 21/100\n",
      " - 2s - loss: 9.1124e-04 - val_loss: 9.2703e-04\n",
      "Epoch 22/100\n",
      " - 2s - loss: 9.5322e-04 - val_loss: 9.1310e-04\n",
      "Epoch 23/100\n",
      " - 2s - loss: 9.1287e-04 - val_loss: 9.5930e-04\n",
      "Epoch 24/100\n",
      " - 2s - loss: 9.0231e-04 - val_loss: 8.8139e-04\n",
      "Epoch 25/100\n",
      " - 2s - loss: 9.2072e-04 - val_loss: 8.0874e-04\n",
      "Epoch 26/100\n",
      " - 2s - loss: 8.7171e-04 - val_loss: 8.5024e-04\n",
      "Epoch 27/100\n",
      " - 2s - loss: 8.9422e-04 - val_loss: 7.4616e-04\n",
      "Epoch 28/100\n",
      " - 2s - loss: 8.3836e-04 - val_loss: 8.2697e-04\n",
      "Epoch 29/100\n",
      " - 2s - loss: 8.3131e-04 - val_loss: 8.0990e-04\n",
      "Epoch 30/100\n",
      " - 2s - loss: 8.6447e-04 - val_loss: 8.6774e-04\n",
      "Epoch 31/100\n",
      " - 2s - loss: 8.1496e-04 - val_loss: 8.4333e-04\n",
      "Epoch 32/100\n",
      " - 2s - loss: 7.7910e-04 - val_loss: 8.1542e-04\n",
      "Epoch 33/100\n",
      " - 2s - loss: 7.5675e-04 - val_loss: 7.8677e-04\n",
      "Epoch 34/100\n",
      " - 2s - loss: 7.2514e-04 - val_loss: 8.0708e-04\n",
      "Epoch 35/100\n",
      " - 2s - loss: 7.4519e-04 - val_loss: 7.8892e-04\n",
      "Epoch 36/100\n",
      " - 2s - loss: 7.1349e-04 - val_loss: 8.2695e-04\n",
      "Epoch 37/100\n",
      " - 2s - loss: 7.3045e-04 - val_loss: 8.1990e-04\n",
      "Epoch 38/100\n",
      " - 2s - loss: 7.0093e-04 - val_loss: 7.4801e-04\n",
      "Epoch 39/100\n",
      " - 2s - loss: 7.0651e-04 - val_loss: 7.5659e-04\n",
      "Epoch 40/100\n",
      " - 2s - loss: 7.1988e-04 - val_loss: 7.3298e-04\n",
      "Epoch 41/100\n",
      " - 2s - loss: 7.0598e-04 - val_loss: 7.4652e-04\n",
      "Epoch 42/100\n",
      " - 2s - loss: 7.3431e-04 - val_loss: 7.2381e-04\n",
      "Epoch 43/100\n",
      " - 2s - loss: 7.4700e-04 - val_loss: 6.8498e-04\n",
      "Epoch 44/100\n",
      " - 2s - loss: 7.2834e-04 - val_loss: 6.9139e-04\n",
      "Epoch 45/100\n",
      " - 2s - loss: 7.1719e-04 - val_loss: 6.3838e-04\n",
      "Epoch 46/100\n",
      " - 2s - loss: 6.9935e-04 - val_loss: 6.5806e-04\n",
      "Epoch 47/100\n",
      " - 2s - loss: 7.2713e-04 - val_loss: 6.2080e-04\n",
      "Epoch 48/100\n",
      " - 2s - loss: 7.1390e-04 - val_loss: 6.2781e-04\n",
      "Epoch 49/100\n",
      " - 2s - loss: 6.5427e-04 - val_loss: 6.2661e-04\n",
      "Epoch 50/100\n",
      " - 2s - loss: 6.8096e-04 - val_loss: 6.0996e-04\n",
      "Epoch 51/100\n",
      " - 2s - loss: 6.9634e-04 - val_loss: 6.1864e-04\n",
      "Epoch 52/100\n",
      " - 2s - loss: 7.0234e-04 - val_loss: 6.1163e-04\n",
      "Epoch 53/100\n",
      " - 2s - loss: 6.7761e-04 - val_loss: 6.2637e-04\n",
      "Epoch 54/100\n",
      " - 2s - loss: 6.9164e-04 - val_loss: 6.4307e-04\n",
      "Epoch 55/100\n",
      " - 2s - loss: 6.9350e-04 - val_loss: 6.2661e-04\n",
      "Epoch 56/100\n",
      " - 2s - loss: 7.0178e-04 - val_loss: 5.9686e-04\n",
      "Epoch 57/100\n",
      " - 2s - loss: 7.1329e-04 - val_loss: 5.7492e-04\n",
      "Epoch 58/100\n",
      " - 2s - loss: 6.5567e-04 - val_loss: 6.0988e-04\n",
      "Epoch 59/100\n",
      " - 2s - loss: 7.1350e-04 - val_loss: 5.8888e-04\n",
      "Epoch 60/100\n",
      " - 2s - loss: 6.2764e-04 - val_loss: 6.9449e-04\n",
      "Epoch 61/100\n",
      " - 2s - loss: 6.9850e-04 - val_loss: 5.8016e-04\n",
      "Epoch 62/100\n",
      " - 2s - loss: 6.8183e-04 - val_loss: 5.6411e-04\n",
      "Epoch 63/100\n",
      " - 2s - loss: 7.1528e-04 - val_loss: 5.7176e-04\n",
      "Epoch 64/100\n",
      " - 2s - loss: 6.4511e-04 - val_loss: 5.9927e-04\n",
      "Epoch 65/100\n",
      " - 2s - loss: 6.6219e-04 - val_loss: 5.8899e-04\n",
      "Epoch 66/100\n",
      " - 2s - loss: 7.1293e-04 - val_loss: 5.9851e-04\n",
      "Epoch 67/100\n",
      " - 2s - loss: 6.6153e-04 - val_loss: 6.3505e-04\n",
      "Epoch 68/100\n",
      " - 2s - loss: 6.3115e-04 - val_loss: 5.8450e-04\n",
      "Epoch 69/100\n",
      " - 2s - loss: 6.2940e-04 - val_loss: 5.8232e-04\n",
      "Epoch 70/100\n",
      " - 2s - loss: 6.4489e-04 - val_loss: 5.9200e-04\n",
      "Epoch 71/100\n",
      " - 2s - loss: 7.1997e-04 - val_loss: 5.5798e-04\n",
      "Epoch 72/100\n",
      " - 2s - loss: 6.7791e-04 - val_loss: 5.7080e-04\n",
      "Epoch 73/100\n",
      " - 2s - loss: 6.4620e-04 - val_loss: 5.6768e-04\n",
      "Epoch 74/100\n",
      " - 2s - loss: 6.4779e-04 - val_loss: 5.9534e-04\n",
      "Epoch 75/100\n",
      " - 2s - loss: 6.3536e-04 - val_loss: 5.6422e-04\n",
      "Epoch 76/100\n",
      " - 2s - loss: 6.6362e-04 - val_loss: 5.7806e-04\n",
      "Epoch 77/100\n",
      " - 2s - loss: 6.4847e-04 - val_loss: 5.6536e-04\n",
      "Epoch 78/100\n",
      " - 2s - loss: 6.2225e-04 - val_loss: 5.9228e-04\n",
      "Epoch 79/100\n",
      " - 2s - loss: 6.2602e-04 - val_loss: 5.8611e-04\n",
      "Epoch 80/100\n",
      " - 2s - loss: 6.2377e-04 - val_loss: 5.4323e-04\n",
      "Epoch 81/100\n",
      " - 2s - loss: 6.7299e-04 - val_loss: 5.1434e-04\n",
      "Epoch 82/100\n",
      " - 2s - loss: 7.0294e-04 - val_loss: 5.5388e-04\n",
      "Epoch 83/100\n",
      " - 2s - loss: 6.3141e-04 - val_loss: 5.8919e-04\n",
      "Epoch 84/100\n",
      " - 2s - loss: 6.5072e-04 - val_loss: 5.1322e-04\n",
      "Epoch 85/100\n",
      " - 2s - loss: 6.5582e-04 - val_loss: 5.2745e-04\n",
      "Epoch 86/100\n",
      " - 2s - loss: 6.5666e-04 - val_loss: 5.1542e-04\n",
      "Epoch 87/100\n",
      " - 2s - loss: 6.4483e-04 - val_loss: 5.2646e-04\n",
      "Epoch 88/100\n",
      " - 2s - loss: 6.6750e-04 - val_loss: 4.9611e-04\n",
      "Epoch 89/100\n",
      " - 2s - loss: 6.3128e-04 - val_loss: 5.2874e-04\n",
      "Epoch 90/100\n",
      " - 2s - loss: 6.3524e-04 - val_loss: 5.0350e-04\n",
      "Epoch 91/100\n",
      " - 2s - loss: 6.1903e-04 - val_loss: 4.7605e-04\n",
      "Epoch 92/100\n",
      " - 2s - loss: 6.1098e-04 - val_loss: 5.2021e-04\n",
      "Epoch 93/100\n",
      " - 2s - loss: 6.4542e-04 - val_loss: 4.9671e-04\n",
      "Epoch 94/100\n",
      " - 2s - loss: 5.9675e-04 - val_loss: 5.2406e-04\n",
      "Epoch 95/100\n",
      " - 2s - loss: 6.8693e-04 - val_loss: 5.1548e-04\n",
      "Epoch 96/100\n",
      " - 2s - loss: 6.5407e-04 - val_loss: 4.8871e-04\n",
      "Epoch 97/100\n",
      " - 2s - loss: 6.0612e-04 - val_loss: 4.9219e-04\n",
      "Epoch 98/100\n",
      " - 2s - loss: 6.6153e-04 - val_loss: 4.8531e-04\n",
      "Epoch 99/100\n",
      " - 2s - loss: 5.8307e-04 - val_loss: 5.1197e-04\n",
      "Epoch 100/100\n",
      " - 2s - loss: 6.1545e-04 - val_loss: 4.7337e-04\n"
     ]
    }
   ],
   "source": [
    "from tensorflow.keras import callbacks\n",
    "import os\n",
    "csv_logger = callbacks.CSVLogger(os.path.join(\"C:\\\\Desktop\\\\Academics\\\\Third Sem\\\\FE511\\\\aaa.log\"), append=True)\n",
    "\n",
    "history = lstm_model.fit(x_t, y_t, epochs=100, verbose=2, batch_size=BATCH_SIZE,\n",
    "                    shuffle=False, validation_data=(trim_dataset(x_val, BATCH_SIZE),\n",
    "                    trim_dataset(y_val, BATCH_SIZE)), callbacks=[csv_logger])"
   ]
  },
  {
   "cell_type": "code",
   "execution_count": 19,
   "metadata": {},
   "outputs": [],
   "source": [
    "\n",
    "#Prediction\n",
    "predicted_vix = lstm_model.predict(x_test_t)\n"
   ]
  },
  {
   "cell_type": "code",
   "execution_count": 22,
   "metadata": {},
   "outputs": [
    {
     "data": {
      "image/png": "[encoded data removed]",
      "text/plain": [
       "<Figure size 432x288 with 1 Axes>"
      ]
     },
     "metadata": {},
     "output_type": "display_data"
    }
   ],
   "source": [
    "#Prediction plot\n",
    "plt.plot(y_test_t, color = 'black', label = 'Real')\n",
    "plt.plot(predicted_vix, color = 'green', label = 'Predicted')\n",
    "plt.title('VIX Prediction')\n",
    "plt.xlabel('Time')\n",
    "plt.ylabel('VIX Index')\n",
    "plt.legend()\n",
    "plt.show()"
   ]
  },
  {
   "cell_type": "code",
   "execution_count": null,
   "metadata": {},
   "outputs": [],
   "source": []
  }
 ],
 "metadata": {
  "kernelspec": {
   "display_name": "Python 3",
   "language": "python",
   "name": "python3"
  },
  "language_info": {
   "codemirror_mode": {
    "name": "ipython",
    "version": 3
   },
   "file_extension": ".py",
   "mimetype": "text/x-python",
   "name": "python",
   "nbconvert_exporter": "python",
   "pygments_lexer": "ipython3",
   "version": "3.7.4"
  }
 },
 "nbformat": 4,
 "nbformat_minor": 2
}
